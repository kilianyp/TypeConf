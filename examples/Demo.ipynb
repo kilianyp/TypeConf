{
 "cells": [
  {
   "cell_type": "code",
   "execution_count": 9,
   "metadata": {},
   "outputs": [],
   "source": [
    "from typeconf import SelectConfig, BaseConfig\n",
    "from pydantic import ValidationError\n",
    "import torch\n",
    "from torch import nn\n",
    "from typing import Tuple, Union"
   ]
  },
  {
   "cell_type": "markdown",
   "metadata": {},
   "source": [
    "Access predefined"
   ]
  },
  {
   "cell_type": "code",
   "execution_count": 8,
   "metadata": {},
   "outputs": [],
   "source": [
    "from typeconf.libs.torch.optim import OptimizerConfig"
   ]
  },
  {
   "cell_type": "code",
   "execution_count": 16,
   "metadata": {},
   "outputs": [],
   "source": [
    "class NonLinearityConfig(SelectConfig):\n",
    "    pass\n",
    "\n",
    "@NonLinearityConfig.register('sigmoid')\n",
    "class Sigmoid(NonLinearityConfig):\n",
    "    def build(self):\n",
    "        return torch.sigmoid\n",
    "\n",
    "@NonLinearityConfig.register('tanh')\n",
    "class Tanh(NonLinearityConfig):\n",
    "    def build(self):\n",
    "        return torch.tanh"
   ]
  },
  {
   "cell_type": "code",
   "execution_count": 63,
   "metadata": {},
   "outputs": [],
   "source": [
    "class ModelConfig(SelectConfig):\n",
    "    pass\n",
    "\n",
    "class ConvModel(nn.Module):\n",
    "    def __init__(self, activation_fn, kernel_size):\n",
    "        super().__init__()\n",
    "        self.activation_fn = activation_fn\n",
    "        self.conv1 = nn.Conv2d(3, 3, kernel_size=kernel_size)\n",
    "    def forward(self, x):\n",
    "        x = self.conv1(x)\n",
    "        return self.activation_fn(x)\n",
    "\n",
    "@ModelConfig.register('ConvNetwork')\n",
    "class ConvModelConfig(ModelConfig):\n",
    "    activation_fn : NonLinearityConfig\n",
    "    kernel_size : Union[Tuple[int, int], int] = (3, 3)\n",
    "    def build(self):\n",
    "        activation_fn = self.activation_fn.build()\n",
    "        return ConvModel(activation_fn, self.kernel_size)\n",
    "\n",
    "class LinearModel(nn.Module):\n",
    "    def __init__(self, activation_fn, in_features, out_features):\n",
    "        super().__init__()\n",
    "        self.activation_fn = activation_fn\n",
    "        self.fc1 = nn.Linear(in_features, out_features)\n",
    "    def forward(self, x):\n",
    "        x = self.fc1(x)\n",
    "        return self.activation_fn(x)\n",
    "\n",
    "@ModelConfig.register('LinearNetwork')\n",
    "class LinearModelConfig(ModelConfig):\n",
    "    activation_fn : NonLinearityConfig\n",
    "    in_features : int = 10\n",
    "    out_features : int = 10\n",
    "    def build(self):\n",
    "        activation_fn = self.activation_fn.build()\n",
    "        return LinearModel(activation_fn, self.in_features, self.out_features)"
   ]
  },
  {
   "cell_type": "code",
   "execution_count": 67,
   "metadata": {},
   "outputs": [],
   "source": [
    "class ExperimentConfig(BaseConfig):\n",
    "    model : ModelConfig\n",
    "    optimizer : OptimizerConfig"
   ]
  },
  {
   "cell_type": "code",
   "execution_count": 85,
   "metadata": {
    "scrolled": true
   },
   "outputs": [],
   "source": [
    "cfg1 = {\n",
    "    'model': {\n",
    "        'name': 'LinearNetwork',\n",
    "        'activation_fn': {\n",
    "            'name': 'sigmoid'\n",
    "        }\n",
    "    },\n",
    "    'optimizer': {\n",
    "        'name': 'Adagrad'\n",
    "    }\n",
    "}\n",
    "\n",
    "cfg2 = {\n",
    "    'model': {\n",
    "        'name': 'ConvNetwork',\n",
    "        'activation_fn': {\n",
    "            'name': 'tanh'\n",
    "        }\n",
    "    },\n",
    "    'optimizer': {\n",
    "        'name': 'Adagrad'\n",
    "    }\n",
    "}\n",
    "\n",
    "# avoid runtime error because option does not exist\n",
    "cfg_wrong_model_name = {\n",
    "    'model': {\n",
    "        'name': 'ConNetwork',\n",
    "        'activation_fn': {\n",
    "            'name': 'tanh'\n",
    "        }\n",
    "    },\n",
    "    'optimizer': {\n",
    "        'name': 'Adadelta'\n",
    "    }\n",
    "}\n",
    "\n",
    "# avoid runtime error because of invalid data type\n",
    "cfg_wrong_kernel_size = {\n",
    "    'model': {\n",
    "        'name': 'ConvNetwork',\n",
    "        'kernel_size': (3, 3, 3),\n",
    "        'activation_fn': {\n",
    "            'name': 'tanh'\n",
    "        }\n",
    "    },\n",
    "    'optimizer': {\n",
    "        'name': 'Adagrad'\n",
    "    }\n",
    "}\n",
    "\n",
    "# Avoid default value being used because wrong naming\n",
    "cfg_wrong_kernel_size_name = {\n",
    "    'model': {\n",
    "        'name': 'ConvNetwork',\n",
    "        'kernel_sizze': (3, 3),\n",
    "        'activation_fn': {\n",
    "            'name': 'tanh'\n",
    "        }\n",
    "    },\n",
    "    'optimizer': {\n",
    "        'name': 'Adagrad'\n",
    "    }\n",
    "}\n",
    "cfgs = [cfg1, cfg2, cfg_wrong_model_name, cfg_wrong_kernel_size, cfg_wrong_kernel_size_name]"
   ]
  },
  {
   "cell_type": "code",
   "execution_count": 86,
   "metadata": {},
   "outputs": [
    {
     "name": "stdout",
     "output_type": "stream",
     "text": [
      "model=LinearModelConfig(name='LinearNetwork', activation_fn=Sigmoid(name='sigmoid'), in_features=10, out_features=10) optimizer=AdagradConfig(name='Adagrad', lr=0.01, lr_decay=0, eps=1e-10, initial_accumulator_value=0.0, weight_decay=0)\n",
      "LinearModel(\n",
      "  (fc1): Linear(in_features=10, out_features=10, bias=True)\n",
      ")\n",
      "<built-in method sigmoid of type object at 0x11137fc30>\n",
      "\n",
      "\n",
      "\n",
      "model=ConvModelConfig(name='ConvNetwork', activation_fn=Tanh(name='tanh'), kernel_size=(3, 3)) optimizer=AdagradConfig(name='Adagrad', lr=0.01, lr_decay=0, eps=1e-10, initial_accumulator_value=0.0, weight_decay=0)\n",
      "ConvModel(\n",
      "  (conv1): Conv2d(3, 3, kernel_size=(3, 3), stride=(1, 1))\n",
      ")\n",
      "<built-in method tanh of type object at 0x11137fc30>\n",
      "\n",
      "\n",
      "\n",
      "Unknown option for ModelConfig: ConNetwork\n",
      "\n",
      "\n",
      "\n",
      "2 validation errors for ExperimentConfig\n",
      "model -> kernel_size\n",
      "  wrong tuple length 3, expected 2 (type=value_error.tuple.length; actual_length=3; expected_length=2)\n",
      "model -> kernel_size\n",
      "  value is not a valid integer (type=type_error.integer)\n",
      "\n",
      "\n",
      "\n",
      "1 validation error for ExperimentConfig\n",
      "model -> kernel_sizze\n",
      "  extra fields not permitted (type=value_error.extra)\n",
      "\n",
      "\n",
      "\n"
     ]
    }
   ],
   "source": [
    "for cfg in cfgs:\n",
    "    try:\n",
    "        cfg = ExperimentConfig(**cfg)\n",
    "        print(cfg)\n",
    "\n",
    "        model = cfg.model.build()\n",
    "        print(model) \n",
    "        print(model.activation_fn)\n",
    "        optimizer = cfg.optimizer.build()\n",
    "        print(optimizer)\n",
    "        \n",
    "    except ValidationError as e:\n",
    "        # thrown by pydantic\n",
    "        print(e)\n",
    "    except ValueError as e:\n",
    "        # thrown by typeconf\n",
    "        print(e)\n",
    "    print('\\n\\n')"
   ]
  },
  {
   "cell_type": "code",
   "execution_count": null,
   "metadata": {},
   "outputs": [],
   "source": []
  }
 ],
 "metadata": {
  "kernelspec": {
   "display_name": "CV",
   "language": "python",
   "name": "cv"
  },
  "language_info": {
   "codemirror_mode": {
    "name": "ipython",
    "version": 3
   },
   "file_extension": ".py",
   "mimetype": "text/x-python",
   "name": "python",
   "nbconvert_exporter": "python",
   "pygments_lexer": "ipython3",
   "version": "3.7.3"
  }
 },
 "nbformat": 4,
 "nbformat_minor": 2
}
